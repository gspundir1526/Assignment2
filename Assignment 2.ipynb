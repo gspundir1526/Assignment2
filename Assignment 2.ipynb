{
 "cells": [
  {
   "cell_type": "code",
   "execution_count": 1,
   "id": "aa194202-9c0b-447d-80ba-3dbc579f6062",
   "metadata": {},
   "outputs": [],
   "source": [
    "#Q1. How do you comment code in Python? What are the different types of comments?"
   ]
  },
  {
   "cell_type": "code",
   "execution_count": 3,
   "id": "fa7e781b-ebba-465f-9499-7480fb1ca122",
   "metadata": {},
   "outputs": [],
   "source": [
    "#Comments in Python are the lines in the code that are ignored by the interpreter during the execution of the program. Comments enhance the readability of the code and help the programmers to understand the code very carefully. \n",
    "#Types of Comments in Python\n",
    "#1. Single-Line Comments in Python\n",
    "#Example : #Single Line Comment\n",
    "#2. Multi-Line Comments in Python\n",
    "#Example : \"\"\" Python program to demonstrate multiline comments\"\"\"\n"
   ]
  },
  {
   "cell_type": "code",
   "execution_count": null,
   "id": "c7462663-6c29-4cb4-96e1-663181d6112b",
   "metadata": {},
   "outputs": [],
   "source": [
    "#Q2. What are variables in Python? How do you declare and assign values to variables?"
   ]
  },
  {
   "cell_type": "code",
   "execution_count": null,
   "id": "07331562-efb1-425b-b4b4-1bb7d3c91ee9",
   "metadata": {},
   "outputs": [],
   "source": [
    "#Python has no command for declaring a variable. A variable is created when some value is assigned to it.\n",
    "#How to declare a variable in Python?\n",
    "# 1. Just name the variable.\n",
    "# 2. Assign the required value to it.\n",
    "# 3. The data type of the variable will be automatically determined from the value assigned, we need not define it explicitly."
   ]
  },
  {
   "cell_type": "code",
   "execution_count": null,
   "id": "60c75f77-eaff-4123-8922-a244c460be5d",
   "metadata": {},
   "outputs": [],
   "source": [
    "#Q3. How do you convert one data type to another in Python?"
   ]
  },
  {
   "cell_type": "code",
   "execution_count": 48,
   "id": "4d8eeda7-c052-45c0-9055-5c8bbdec1964",
   "metadata": {},
   "outputs": [
    {
     "name": "stdout",
     "output_type": "stream",
     "text": [
      "<class 'int'>\n",
      "<class 'float'>\n",
      "5.0\n",
      "<class 'float'>\n"
     ]
    }
   ],
   "source": [
    "# Python automatically converts\n",
    "# a to int\n",
    "a = 5\n",
    "print(type(a))\n",
    " \n",
    "# Python automatically converts\n",
    "# b to float\n",
    "b = 1.0\n",
    "print(type(b))\n",
    " \n",
    "# Python automatically converts\n",
    "# c to int as it is a floor division\n",
    "c = a//b\n",
    "print(c)\n",
    "print(type(c))"
   ]
  },
  {
   "cell_type": "code",
   "execution_count": 49,
   "id": "5c12d12e-e128-4822-8126-a212b009c036",
   "metadata": {},
   "outputs": [
    {
     "name": "stdout",
     "output_type": "stream",
     "text": [
      "10\n",
      "<class 'str'>\n"
     ]
    }
   ],
   "source": [
    "# Python program to demonstrate\n",
    "# type conversion of number to\n",
    "# string\n",
    " \n",
    "a = 10\n",
    " \n",
    "# Converting number to string\n",
    "s = str(a)\n",
    "print(s)\n",
    "print(type(s))"
   ]
  },
  {
   "cell_type": "code",
   "execution_count": null,
   "id": "411ca606-64f1-4d7f-b645-c1778c057440",
   "metadata": {},
   "outputs": [],
   "source": [
    "#Q4. How do you write and execute a Python script from the command line?"
   ]
  },
  {
   "cell_type": "code",
   "execution_count": null,
   "id": "4cc47791-3b0c-4d86-9675-613d0b38a76b",
   "metadata": {},
   "outputs": [],
   "source": [
    "#It’s quite easy to run Python scripts from the command line.\n",
    "\n",
    "#1. Verify your terminal or command prompt can run Python\n",
    "#2. Create a Python script that is error-free\n",
    "#3. Use python your/file/name.py to run your script from the terminal\n"
   ]
  },
  {
   "cell_type": "code",
   "execution_count": 23,
   "id": "3eb11387-7baf-4573-9686-ea295760aa89",
   "metadata": {},
   "outputs": [],
   "source": [
    "#Q5. Given a list my_list = [1, 2, 3, 4, 5], write the code to slice the list and obtain the sub-list [2, 3]."
   ]
  },
  {
   "cell_type": "code",
   "execution_count": null,
   "id": "6ee21e65-d9c9-4d9c-8802-a1aabf2fd14f",
   "metadata": {},
   "outputs": [],
   "source": [
    "my_list=[1,2,3,4,5]"
   ]
  },
  {
   "cell_type": "code",
   "execution_count": 27,
   "id": "c869b345-de54-4b24-ab0a-cdfed49fc932",
   "metadata": {},
   "outputs": [
    {
     "data": {
      "text/plain": [
       "[2, 3]"
      ]
     },
     "execution_count": 27,
     "metadata": {},
     "output_type": "execute_result"
    }
   ],
   "source": [
    "my_list[1:3]"
   ]
  },
  {
   "cell_type": "code",
   "execution_count": 22,
   "id": "bb15c780-efe6-4ed9-a16a-ec7d592dbe03",
   "metadata": {},
   "outputs": [],
   "source": [
    "#Q6. What is a complex number in mathematics, and how is it represented in Python?"
   ]
  },
  {
   "cell_type": "code",
   "execution_count": null,
   "id": "7088f8ce-5353-4568-b8ab-a28f2ed76ac7",
   "metadata": {},
   "outputs": [],
   "source": [
    "#Complex numbers are created from two real numbers. You can create it directly or you can use the complex function. \n",
    "#It is written in the form of (x + yj) where x and y are real numbers and j is an imaginary number which is the square root of -1.\n",
    "B=5+2j"
   ]
  },
  {
   "cell_type": "code",
   "execution_count": 18,
   "id": "ce87dffe-18f5-448c-8201-f20fbaaec2de",
   "metadata": {},
   "outputs": [
    {
     "data": {
      "text/plain": [
       "5.0"
      ]
     },
     "execution_count": 18,
     "metadata": {},
     "output_type": "execute_result"
    }
   ],
   "source": [
    "B.real"
   ]
  },
  {
   "cell_type": "code",
   "execution_count": 19,
   "id": "c3b46139-963c-4779-b728-8c73b5ca11af",
   "metadata": {},
   "outputs": [
    {
     "data": {
      "text/plain": [
       "2.0"
      ]
     },
     "execution_count": 19,
     "metadata": {},
     "output_type": "execute_result"
    }
   ],
   "source": [
    "B.imag"
   ]
  },
  {
   "cell_type": "code",
   "execution_count": 20,
   "id": "69b5b13f-360f-432a-888a-f2980cc1cbb3",
   "metadata": {},
   "outputs": [
    {
     "data": {
      "text/plain": [
       "complex"
      ]
     },
     "execution_count": 20,
     "metadata": {},
     "output_type": "execute_result"
    }
   ],
   "source": [
    "type(B)"
   ]
  },
  {
   "cell_type": "code",
   "execution_count": 42,
   "id": "5b8fb376-b3bd-487f-afac-dcd87b7a734c",
   "metadata": {},
   "outputs": [],
   "source": [
    "#Q7. What is the correct way to declare a variable named age and assign the value 25 to it?"
   ]
  },
  {
   "cell_type": "code",
   "execution_count": 43,
   "id": "8bc307da-40d6-4530-b26d-1807e46902ed",
   "metadata": {},
   "outputs": [
    {
     "name": "stdin",
     "output_type": "stream",
     "text": [
      "Age of the person 25\n"
     ]
    }
   ],
   "source": [
    "Age=int(input(\"Age of the person\"))"
   ]
  },
  {
   "cell_type": "code",
   "execution_count": 28,
   "id": "9f2b5528-1017-497b-9835-d2f5134b211d",
   "metadata": {},
   "outputs": [],
   "source": [
    "#Q8. Declare a variable named price and assign the value 9.99 to it. What data type does this variable belong to?"
   ]
  },
  {
   "cell_type": "code",
   "execution_count": 29,
   "id": "8298296f-2d99-417d-a66f-03276a951668",
   "metadata": {},
   "outputs": [],
   "source": [
    "F=9.99"
   ]
  },
  {
   "cell_type": "code",
   "execution_count": 30,
   "id": "56680bd3-858d-4497-9775-dfa4dc61d4b2",
   "metadata": {},
   "outputs": [
    {
     "data": {
      "text/plain": [
       "float"
      ]
     },
     "execution_count": 30,
     "metadata": {},
     "output_type": "execute_result"
    }
   ],
   "source": [
    "type(F)"
   ]
  },
  {
   "cell_type": "code",
   "execution_count": 31,
   "id": "571b145b-dfeb-4b70-a1eb-f5735d348b57",
   "metadata": {},
   "outputs": [],
   "source": [
    "#Q9. Create a variable named name and assign your full name to it as a string. How would you print the value of this variable?"
   ]
  },
  {
   "cell_type": "code",
   "execution_count": 32,
   "id": "0c550d32-58d2-42c0-9176-510ebefd773e",
   "metadata": {},
   "outputs": [],
   "source": [
    "S=\"Gaurav Pundir\""
   ]
  },
  {
   "cell_type": "code",
   "execution_count": 34,
   "id": "f35a1d46-bf4e-447f-a5a8-38e0aa4f6767",
   "metadata": {},
   "outputs": [
    {
     "data": {
      "text/plain": [
       "'Gaurav Pundir'"
      ]
     },
     "execution_count": 34,
     "metadata": {},
     "output_type": "execute_result"
    }
   ],
   "source": [
    "S"
   ]
  },
  {
   "cell_type": "code",
   "execution_count": 35,
   "id": "c034c73d-0b11-45a1-ba5b-5415c6dedc69",
   "metadata": {},
   "outputs": [
    {
     "data": {
      "text/plain": [
       "str"
      ]
     },
     "execution_count": 35,
     "metadata": {},
     "output_type": "execute_result"
    }
   ],
   "source": [
    "type(S)"
   ]
  },
  {
   "cell_type": "code",
   "execution_count": 36,
   "id": "f0b66594-f4a2-42dd-944f-5b1bb0568bfa",
   "metadata": {},
   "outputs": [],
   "source": [
    "#Q10. Given the string \"Hello, World!\", extract the substring \"World\"."
   ]
  },
  {
   "cell_type": "code",
   "execution_count": 37,
   "id": "25106f22-359a-4b08-b7d4-459a7f9d84e6",
   "metadata": {},
   "outputs": [],
   "source": [
    "S1=\"Hello, World!\""
   ]
  },
  {
   "cell_type": "code",
   "execution_count": 39,
   "id": "33613226-15ad-4684-ae6a-121a794ecc06",
   "metadata": {},
   "outputs": [
    {
     "data": {
      "text/plain": [
       "'World'"
      ]
     },
     "execution_count": 39,
     "metadata": {},
     "output_type": "execute_result"
    }
   ],
   "source": [
    "S1[7:12]"
   ]
  },
  {
   "cell_type": "code",
   "execution_count": null,
   "id": "a9e57436-9e9c-4812-9b62-63049c5452e9",
   "metadata": {},
   "outputs": [],
   "source": [
    "#Q11. Create a variable named \"is_student\" and assign it a boolean value indicating whether you are currently a student or not."
   ]
  },
  {
   "cell_type": "code",
   "execution_count": 41,
   "id": "a71a6fde-87a4-44c3-a5f1-ca4427107889",
   "metadata": {},
   "outputs": [],
   "source": [
    "is_student=True"
   ]
  },
  {
   "cell_type": "code",
   "execution_count": null,
   "id": "5b8c78a8-7727-422d-a237-2653b4f03bcf",
   "metadata": {},
   "outputs": [],
   "source": []
  }
 ],
 "metadata": {
  "kernelspec": {
   "display_name": "Python 3 (ipykernel)",
   "language": "python",
   "name": "python3"
  },
  "language_info": {
   "codemirror_mode": {
    "name": "ipython",
    "version": 3
   },
   "file_extension": ".py",
   "mimetype": "text/x-python",
   "name": "python",
   "nbconvert_exporter": "python",
   "pygments_lexer": "ipython3",
   "version": "3.10.8"
  }
 },
 "nbformat": 4,
 "nbformat_minor": 5
}
